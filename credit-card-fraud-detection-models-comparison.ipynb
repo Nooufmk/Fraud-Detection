{
 "cells": [
  {
   "cell_type": "markdown",
   "metadata": {},
   "source": [
    "# Credit Card Fraud Detection"
   ]
  },
  {
   "cell_type": "markdown",
   "metadata": {},
   "source": [
    "### Datasets : An Overview"
   ]
  },
  {
   "cell_type": "markdown",
   "metadata": {},
   "source": [
    "The dataset contains transactions made by credit cards in September 2013 by European cardholders.\n",
    "This dataset presents transactions that occurred in two days, where we have 492 frauds out of 284,807 transactions. The dataset is highly unbalanced, the positive class (frauds) account for 0.172% of all transactions.\n",
    "\n",
    "It contains only numerical input variables which are the result of a PCA transformation. Unfortunately, due to confidentiality issues, we cannot provide the original features and more background information about the data. Features V1, V2, … V28 are the principal components obtained with PCA, the only features which have not been transformed with PCA are 'Time' and 'Amount'.\n"
   ]
  },
  {
   "cell_type": "markdown",
   "metadata": {},
   "source": [
    "### Problem statement"
   ]
  },
  {
   "cell_type": "markdown",
   "metadata": {},
   "source": [
    "The main technical challenge it poses to predicting fraud is the highly imbalanced distribution between positive and negative classes in 284,807  thousand rows of data."
   ]
  },
  {
   "cell_type": "markdown",
   "metadata": {},
   "source": [
    "### Headers"
   ]
  },
  {
   "cell_type": "markdown",
   "metadata": {},
   "source": [
    "* 'Time' contains the seconds elapsed between each transaction and the first transaction in the dataset.\n",
    "\n",
    "* 'Amount' is the transaction Amount, this feature can be used for example-dependant cost-sensitive learning.\n",
    "\n",
    "* 'Class' is the response variable and it takes value 1 in case of fraud and 0 otherwis."
   ]
  },
  {
   "cell_type": "code",
   "execution_count": 1,
   "metadata": {
    "execution": {
     "iopub.execute_input": "2021-12-23T06:34:01.230171Z",
     "iopub.status.busy": "2021-12-23T06:34:01.229755Z",
     "iopub.status.idle": "2021-12-23T06:34:02.892326Z",
     "shell.execute_reply": "2021-12-23T06:34:02.891372Z",
     "shell.execute_reply.started": "2021-12-23T06:34:01.230065Z"
    }
   },
   "outputs": [],
   "source": [
    "import numpy as np # linear algebra\n",
    "import pandas as pd # data processing, CSV file I/O (e.g. pd.read_csv)\n",
    "import matplotlib.pyplot as plt\n",
    "import seaborn as sns\n",
    "\n",
    "from sklearn.linear_model import LogisticRegression\n",
    "from sklearn.neighbors import KNeighborsClassifier\n",
    "from sklearn.tree import DecisionTreeClassifier\n",
    "from sklearn.ensemble import RandomForestClassifier\n",
    "import collections\n",
    "\n",
    "from sklearn.model_selection import train_test_split\n",
    "from imblearn.over_sampling import SMOTE\n",
    "from sklearn.metrics import confusion_matrix , precision_score, recall_score, f1_score, roc_auc_score, accuracy_score, classification_report\n",
    "from sklearn.model_selection import KFold, StratifiedKFold\n",
    "\n",
    "import warnings\n",
    "warnings.filterwarnings('ignore')"
   ]
  },
  {
   "cell_type": "code",
   "execution_count": 2,
   "metadata": {
    "execution": {
     "iopub.execute_input": "2021-12-23T06:34:02.894101Z",
     "iopub.status.busy": "2021-12-23T06:34:02.893813Z",
     "iopub.status.idle": "2021-12-23T06:34:07.067146Z",
     "shell.execute_reply": "2021-12-23T06:34:07.066334Z",
     "shell.execute_reply.started": "2021-12-23T06:34:02.894070Z"
    }
   },
   "outputs": [
    {
     "data": {
      "text/html": [
       "<div>\n",
       "<style scoped>\n",
       "    .dataframe tbody tr th:only-of-type {\n",
       "        vertical-align: middle;\n",
       "    }\n",
       "\n",
       "    .dataframe tbody tr th {\n",
       "        vertical-align: top;\n",
       "    }\n",
       "\n",
       "    .dataframe thead th {\n",
       "        text-align: right;\n",
       "    }\n",
       "</style>\n",
       "<table border=\"1\" class=\"dataframe\">\n",
       "  <thead>\n",
       "    <tr style=\"text-align: right;\">\n",
       "      <th></th>\n",
       "      <th>Time</th>\n",
       "      <th>V1</th>\n",
       "      <th>V2</th>\n",
       "      <th>V3</th>\n",
       "      <th>V4</th>\n",
       "      <th>V5</th>\n",
       "      <th>V6</th>\n",
       "      <th>V7</th>\n",
       "      <th>V8</th>\n",
       "      <th>V9</th>\n",
       "      <th>...</th>\n",
       "      <th>V21</th>\n",
       "      <th>V22</th>\n",
       "      <th>V23</th>\n",
       "      <th>V24</th>\n",
       "      <th>V25</th>\n",
       "      <th>V26</th>\n",
       "      <th>V27</th>\n",
       "      <th>V28</th>\n",
       "      <th>Amount</th>\n",
       "      <th>Class</th>\n",
       "    </tr>\n",
       "  </thead>\n",
       "  <tbody>\n",
       "    <tr>\n",
       "      <th>0</th>\n",
       "      <td>0.0</td>\n",
       "      <td>-1.359807</td>\n",
       "      <td>-0.072781</td>\n",
       "      <td>2.536347</td>\n",
       "      <td>1.378155</td>\n",
       "      <td>-0.338321</td>\n",
       "      <td>0.462388</td>\n",
       "      <td>0.239599</td>\n",
       "      <td>0.098698</td>\n",
       "      <td>0.363787</td>\n",
       "      <td>...</td>\n",
       "      <td>-0.018307</td>\n",
       "      <td>0.277838</td>\n",
       "      <td>-0.110474</td>\n",
       "      <td>0.066928</td>\n",
       "      <td>0.128539</td>\n",
       "      <td>-0.189115</td>\n",
       "      <td>0.133558</td>\n",
       "      <td>-0.021053</td>\n",
       "      <td>149.62</td>\n",
       "      <td>0</td>\n",
       "    </tr>\n",
       "    <tr>\n",
       "      <th>1</th>\n",
       "      <td>0.0</td>\n",
       "      <td>1.191857</td>\n",
       "      <td>0.266151</td>\n",
       "      <td>0.166480</td>\n",
       "      <td>0.448154</td>\n",
       "      <td>0.060018</td>\n",
       "      <td>-0.082361</td>\n",
       "      <td>-0.078803</td>\n",
       "      <td>0.085102</td>\n",
       "      <td>-0.255425</td>\n",
       "      <td>...</td>\n",
       "      <td>-0.225775</td>\n",
       "      <td>-0.638672</td>\n",
       "      <td>0.101288</td>\n",
       "      <td>-0.339846</td>\n",
       "      <td>0.167170</td>\n",
       "      <td>0.125895</td>\n",
       "      <td>-0.008983</td>\n",
       "      <td>0.014724</td>\n",
       "      <td>2.69</td>\n",
       "      <td>0</td>\n",
       "    </tr>\n",
       "    <tr>\n",
       "      <th>2</th>\n",
       "      <td>1.0</td>\n",
       "      <td>-1.358354</td>\n",
       "      <td>-1.340163</td>\n",
       "      <td>1.773209</td>\n",
       "      <td>0.379780</td>\n",
       "      <td>-0.503198</td>\n",
       "      <td>1.800499</td>\n",
       "      <td>0.791461</td>\n",
       "      <td>0.247676</td>\n",
       "      <td>-1.514654</td>\n",
       "      <td>...</td>\n",
       "      <td>0.247998</td>\n",
       "      <td>0.771679</td>\n",
       "      <td>0.909412</td>\n",
       "      <td>-0.689281</td>\n",
       "      <td>-0.327642</td>\n",
       "      <td>-0.139097</td>\n",
       "      <td>-0.055353</td>\n",
       "      <td>-0.059752</td>\n",
       "      <td>378.66</td>\n",
       "      <td>0</td>\n",
       "    </tr>\n",
       "    <tr>\n",
       "      <th>3</th>\n",
       "      <td>1.0</td>\n",
       "      <td>-0.966272</td>\n",
       "      <td>-0.185226</td>\n",
       "      <td>1.792993</td>\n",
       "      <td>-0.863291</td>\n",
       "      <td>-0.010309</td>\n",
       "      <td>1.247203</td>\n",
       "      <td>0.237609</td>\n",
       "      <td>0.377436</td>\n",
       "      <td>-1.387024</td>\n",
       "      <td>...</td>\n",
       "      <td>-0.108300</td>\n",
       "      <td>0.005274</td>\n",
       "      <td>-0.190321</td>\n",
       "      <td>-1.175575</td>\n",
       "      <td>0.647376</td>\n",
       "      <td>-0.221929</td>\n",
       "      <td>0.062723</td>\n",
       "      <td>0.061458</td>\n",
       "      <td>123.50</td>\n",
       "      <td>0</td>\n",
       "    </tr>\n",
       "    <tr>\n",
       "      <th>4</th>\n",
       "      <td>2.0</td>\n",
       "      <td>-1.158233</td>\n",
       "      <td>0.877737</td>\n",
       "      <td>1.548718</td>\n",
       "      <td>0.403034</td>\n",
       "      <td>-0.407193</td>\n",
       "      <td>0.095921</td>\n",
       "      <td>0.592941</td>\n",
       "      <td>-0.270533</td>\n",
       "      <td>0.817739</td>\n",
       "      <td>...</td>\n",
       "      <td>-0.009431</td>\n",
       "      <td>0.798278</td>\n",
       "      <td>-0.137458</td>\n",
       "      <td>0.141267</td>\n",
       "      <td>-0.206010</td>\n",
       "      <td>0.502292</td>\n",
       "      <td>0.219422</td>\n",
       "      <td>0.215153</td>\n",
       "      <td>69.99</td>\n",
       "      <td>0</td>\n",
       "    </tr>\n",
       "  </tbody>\n",
       "</table>\n",
       "<p>5 rows × 31 columns</p>\n",
       "</div>"
      ],
      "text/plain": [
       "   Time        V1        V2        V3        V4        V5        V6        V7  \\\n",
       "0   0.0 -1.359807 -0.072781  2.536347  1.378155 -0.338321  0.462388  0.239599   \n",
       "1   0.0  1.191857  0.266151  0.166480  0.448154  0.060018 -0.082361 -0.078803   \n",
       "2   1.0 -1.358354 -1.340163  1.773209  0.379780 -0.503198  1.800499  0.791461   \n",
       "3   1.0 -0.966272 -0.185226  1.792993 -0.863291 -0.010309  1.247203  0.237609   \n",
       "4   2.0 -1.158233  0.877737  1.548718  0.403034 -0.407193  0.095921  0.592941   \n",
       "\n",
       "         V8        V9  ...       V21       V22       V23       V24       V25  \\\n",
       "0  0.098698  0.363787  ... -0.018307  0.277838 -0.110474  0.066928  0.128539   \n",
       "1  0.085102 -0.255425  ... -0.225775 -0.638672  0.101288 -0.339846  0.167170   \n",
       "2  0.247676 -1.514654  ...  0.247998  0.771679  0.909412 -0.689281 -0.327642   \n",
       "3  0.377436 -1.387024  ... -0.108300  0.005274 -0.190321 -1.175575  0.647376   \n",
       "4 -0.270533  0.817739  ... -0.009431  0.798278 -0.137458  0.141267 -0.206010   \n",
       "\n",
       "        V26       V27       V28  Amount  Class  \n",
       "0 -0.189115  0.133558 -0.021053  149.62      0  \n",
       "1  0.125895 -0.008983  0.014724    2.69      0  \n",
       "2 -0.139097 -0.055353 -0.059752  378.66      0  \n",
       "3 -0.221929  0.062723  0.061458  123.50      0  \n",
       "4  0.502292  0.219422  0.215153   69.99      0  \n",
       "\n",
       "[5 rows x 31 columns]"
      ]
     },
     "execution_count": 2,
     "metadata": {},
     "output_type": "execute_result"
    }
   ],
   "source": [
    "df = pd.read_csv('/Users/nouf/Downloads/creditcard.csv')\n",
    "df.head()"
   ]
  },
  {
   "cell_type": "code",
   "execution_count": 3,
   "metadata": {
    "execution": {
     "iopub.execute_input": "2021-12-23T06:34:07.070599Z",
     "iopub.status.busy": "2021-12-23T06:34:07.070354Z",
     "iopub.status.idle": "2021-12-23T06:34:07.303975Z",
     "shell.execute_reply": "2021-12-23T06:34:07.303109Z",
     "shell.execute_reply.started": "2021-12-23T06:34:07.070568Z"
    }
   },
   "outputs": [
    {
     "data": {
      "text/plain": [
       "<AxesSubplot:xlabel='Class', ylabel='count'>"
      ]
     },
     "execution_count": 3,
     "metadata": {},
     "output_type": "execute_result"
    },
    {
     "data": {
      "image/png": "[encoded data removed]",
      "text/plain": [
       "<Figure size 432x288 with 1 Axes>"
      ]
     },
     "metadata": {
      "needs_background": "light"
     },
     "output_type": "display_data"
    }
   ],
   "source": [
    "sns.countplot('Class', data=df)"
   ]
  },
  {
   "cell_type": "markdown",
   "metadata": {},
   "source": [
    "### Train - test splet"
   ]
  },
  {
   "cell_type": "code",
   "execution_count": 4,
   "metadata": {
    "execution": {
     "iopub.execute_input": "2021-12-23T06:34:07.306099Z",
     "iopub.status.busy": "2021-12-23T06:34:07.305866Z",
     "iopub.status.idle": "2021-12-23T06:34:07.820817Z",
     "shell.execute_reply": "2021-12-23T06:34:07.819943Z",
     "shell.execute_reply.started": "2021-12-23T06:34:07.306071Z"
    }
   },
   "outputs": [],
   "source": [
    "df_train, df_test = train_test_split(df, test_size=0.2,random_state=123,stratify=df[\"Class\"])\n",
    "df_train, df_val = train_test_split(df_train, test_size=0.25,random_state=123,stratify=df_train[\"Class\"])"
   ]
  },
  {
   "cell_type": "code",
   "execution_count": 5,
   "metadata": {
    "execution": {
     "iopub.execute_input": "2021-12-23T06:34:07.824252Z",
     "iopub.status.busy": "2021-12-23T06:34:07.823897Z",
     "iopub.status.idle": "2021-12-23T06:34:08.995107Z",
     "shell.execute_reply": "2021-12-23T06:34:08.994272Z",
     "shell.execute_reply.started": "2021-12-23T06:34:07.824218Z"
    }
   },
   "outputs": [
    {
     "data": {
      "image/png": "[encoded data removed]",
      "text/plain": [
       "<Figure size 720x720 with 2 Axes>"
      ]
     },
     "metadata": {
      "needs_background": "light"
     },
     "output_type": "display_data"
    }
   ],
   "source": [
    "plt.figure(figsize = (10,10))\n",
    "plt.title('Credit Card Transactions features correlation plot (Pearson)')\n",
    "corr = df_train.corr()\n",
    "sns.heatmap(corr,xticklabels=corr.columns,yticklabels=corr.columns,linewidths=.1,cmap=\"Reds\")\n",
    "plt.show()"
   ]
  },
  {
   "cell_type": "markdown",
   "metadata": {},
   "source": [
    "### Fetchr engineering"
   ]
  },
  {
   "cell_type": "code",
   "execution_count": 6,
   "metadata": {
    "execution": {
     "iopub.execute_input": "2021-12-23T06:34:08.996761Z",
     "iopub.status.busy": "2021-12-23T06:34:08.996352Z",
     "iopub.status.idle": "2021-12-23T06:34:09.069925Z",
     "shell.execute_reply": "2021-12-23T06:34:09.069106Z",
     "shell.execute_reply.started": "2021-12-23T06:34:08.996730Z"
    }
   },
   "outputs": [],
   "source": [
    "# Since most of our data has already been scaled we should scale the columns that are left to scale (Amount and Time)\n",
    "from sklearn.preprocessing import StandardScaler, RobustScaler\n",
    "\n",
    "# RobustScaler is less prone to outliers.\n",
    "\n",
    "std_scaler = StandardScaler()\n",
    "rob_scaler = RobustScaler()\n",
    "\n",
    "df_train['scaled_amount'] = rob_scaler.fit_transform(df_train['Amount'].values.reshape(-1,1))\n",
    "df_train['scaled_time'] = rob_scaler.fit_transform(df_train['Time'].values.reshape(-1,1))\n",
    "\n",
    "df_train.drop(['Time','Amount'], axis=1, inplace=True)"
   ]
  },
  {
   "cell_type": "markdown",
   "metadata": {},
   "source": [
    "# "
   ]
  },
  {
   "cell_type": "code",
   "execution_count": 7,
   "metadata": {
    "execution": {
     "iopub.execute_input": "2021-12-23T06:34:09.071184Z",
     "iopub.status.busy": "2021-12-23T06:34:09.070980Z",
     "iopub.status.idle": "2021-12-23T06:34:09.092442Z",
     "shell.execute_reply": "2021-12-23T06:34:09.091417Z",
     "shell.execute_reply.started": "2021-12-23T06:34:09.071158Z"
    }
   },
   "outputs": [],
   "source": [
    "X_train = df_train.drop([\"Class\"], axis = 1)\n",
    "y_train = df_train[\"Class\"]"
   ]
  },
  {
   "cell_type": "markdown",
   "metadata": {},
   "source": [
    "### val"
   ]
  },
  {
   "cell_type": "code",
   "execution_count": 8,
   "metadata": {
    "execution": {
     "iopub.execute_input": "2021-12-23T06:34:09.094274Z",
     "iopub.status.busy": "2021-12-23T06:34:09.093951Z",
     "iopub.status.idle": "2021-12-23T06:34:09.129829Z",
     "shell.execute_reply": "2021-12-23T06:34:09.129154Z",
     "shell.execute_reply.started": "2021-12-23T06:34:09.094232Z"
    }
   },
   "outputs": [],
   "source": [
    "df_val['scaled_amount'] = rob_scaler.fit_transform(df_val['Amount'].values.reshape(-1,1))\n",
    "df_val['scaled_time'] = rob_scaler.fit_transform(df_val['Time'].values.reshape(-1,1))\n",
    "df_val.drop(['Time','Amount'], axis=1, inplace=True)"
   ]
  },
  {
   "cell_type": "code",
   "execution_count": 9,
   "metadata": {
    "execution": {
     "iopub.execute_input": "2021-12-23T06:34:09.131199Z",
     "iopub.status.busy": "2021-12-23T06:34:09.130896Z",
     "iopub.status.idle": "2021-12-23T06:34:09.143010Z",
     "shell.execute_reply": "2021-12-23T06:34:09.142266Z",
     "shell.execute_reply.started": "2021-12-23T06:34:09.131160Z"
    }
   },
   "outputs": [],
   "source": [
    "X_val = df_val.drop([\"Class\"], axis = 1)\n",
    "y_val = df_val[\"Class\"]"
   ]
  },
  {
   "cell_type": "markdown",
   "metadata": {},
   "source": [
    "# Models"
   ]
  },
  {
   "cell_type": "markdown",
   "metadata": {},
   "source": [
    "# LogisticRegression"
   ]
  },
  {
   "cell_type": "markdown",
   "metadata": {},
   "source": [
    "### Train"
   ]
  },
  {
   "cell_type": "code",
   "execution_count": 10,
   "metadata": {
    "execution": {
     "iopub.execute_input": "2021-12-23T06:34:09.146444Z",
     "iopub.status.busy": "2021-12-23T06:34:09.146212Z",
     "iopub.status.idle": "2021-12-23T06:34:12.388512Z",
     "shell.execute_reply": "2021-12-23T06:34:12.387427Z",
     "shell.execute_reply.started": "2021-12-23T06:34:09.146418Z"
    },
    "scrolled": true
   },
   "outputs": [
    {
     "name": "stdout",
     "output_type": "stream",
     "text": [
      "              precision    recall  f1-score   support\n",
      "\n",
      "           0       1.00      1.00      1.00    170588\n",
      "           1       0.90      0.64      0.75       295\n",
      "\n",
      "    accuracy                           1.00    170883\n",
      "   macro avg       0.95      0.82      0.87    170883\n",
      "weighted avg       1.00      1.00      1.00    170883\n",
      "\n",
      "[[170567     21]\n",
      " [   106    189]]\n"
     ]
    }
   ],
   "source": [
    "log_cfl = LogisticRegression(C=0.95, random_state=0,solver='liblinear')\n",
    "\n",
    "log_cfl.fit(X_train, y_train)\n",
    "\n",
    "y_predict = log_cfl.predict(X_train)\n",
    "\n",
    "# evaluate the model\n",
    "print(classification_report(y_train, y_predict))\n",
    "print(confusion_matrix(y_train, y_predict))"
   ]
  },
  {
   "cell_type": "markdown",
   "metadata": {},
   "source": [
    "### val"
   ]
  },
  {
   "cell_type": "code",
   "execution_count": 11,
   "metadata": {
    "execution": {
     "iopub.execute_input": "2021-12-23T06:34:12.390010Z",
     "iopub.status.busy": "2021-12-23T06:34:12.389752Z",
     "iopub.status.idle": "2021-12-23T06:34:15.292131Z",
     "shell.execute_reply": "2021-12-23T06:34:15.291178Z",
     "shell.execute_reply.started": "2021-12-23T06:34:12.389978Z"
    }
   },
   "outputs": [
    {
     "name": "stdout",
     "output_type": "stream",
     "text": [
      "              precision    recall  f1-score   support\n",
      "\n",
      "           0       1.00      1.00      1.00     56863\n",
      "           1       0.87      0.61      0.71        99\n",
      "\n",
      "    accuracy                           1.00     56962\n",
      "   macro avg       0.93      0.80      0.86     56962\n",
      "weighted avg       1.00      1.00      1.00     56962\n",
      "\n",
      "[[56854     9]\n",
      " [   39    60]]\n"
     ]
    }
   ],
   "source": [
    "log_cfl = LogisticRegression(C=0.95, random_state=0,solver='liblinear')\n",
    "\n",
    "log_cfl.fit(X_train, y_train)\n",
    "\n",
    "y_predict = log_cfl.predict(X_val)\n",
    "\n",
    "# evaluate the model\n",
    "print(classification_report(y_val, y_predict))\n",
    "print(confusion_matrix(y_val, y_predict))"
   ]
  },
  {
   "cell_type": "markdown",
   "metadata": {},
   "source": [
    "# KNeighborsClassifier"
   ]
  },
  {
   "cell_type": "markdown",
   "metadata": {},
   "source": [
    "### Train"
   ]
  },
  {
   "cell_type": "code",
   "execution_count": 12,
   "metadata": {
    "execution": {
     "iopub.execute_input": "2021-12-23T06:34:15.293561Z",
     "iopub.status.busy": "2021-12-23T06:34:15.293321Z",
     "iopub.status.idle": "2021-12-23T06:42:28.417584Z",
     "shell.execute_reply": "2021-12-23T06:42:28.416612Z",
     "shell.execute_reply.started": "2021-12-23T06:34:15.293532Z"
    }
   },
   "outputs": [
    {
     "name": "stdout",
     "output_type": "stream",
     "text": [
      "              precision    recall  f1-score   support\n",
      "\n",
      "           0       1.00      1.00      1.00    170588\n",
      "           1       0.95      0.81      0.87       295\n",
      "\n",
      "    accuracy                           1.00    170883\n",
      "   macro avg       0.98      0.90      0.94    170883\n",
      "weighted avg       1.00      1.00      1.00    170883\n",
      "\n",
      "[[170576     12]\n",
      " [    57    238]]\n"
     ]
    }
   ],
   "source": [
    "KNN = KNeighborsClassifier(n_neighbors=5)\n",
    "\n",
    "KNN.fit(X_train, y_train)\n",
    "\n",
    "y_predict = KNN.predict(X_train)\n",
    "\n",
    "# evaluate the model\n",
    "print(classification_report(y_train, y_predict))\n",
    "print(confusion_matrix(y_train, y_predict))"
   ]
  },
  {
   "cell_type": "markdown",
   "metadata": {},
   "source": [
    "### val "
   ]
  },
  {
   "cell_type": "code",
   "execution_count": 13,
   "metadata": {
    "execution": {
     "iopub.execute_input": "2021-12-23T06:42:28.419270Z",
     "iopub.status.busy": "2021-12-23T06:42:28.418953Z",
     "iopub.status.idle": "2021-12-23T06:45:30.713048Z",
     "shell.execute_reply": "2021-12-23T06:45:30.711915Z",
     "shell.execute_reply.started": "2021-12-23T06:42:28.419228Z"
    }
   },
   "outputs": [
    {
     "name": "stdout",
     "output_type": "stream",
     "text": [
      "              precision    recall  f1-score   support\n",
      "\n",
      "           0       1.00      1.00      1.00     56863\n",
      "           1       0.90      0.78      0.83        99\n",
      "\n",
      "    accuracy                           1.00     56962\n",
      "   macro avg       0.95      0.89      0.92     56962\n",
      "weighted avg       1.00      1.00      1.00     56962\n",
      "\n",
      "[[56854     9]\n",
      " [   22    77]]\n"
     ]
    }
   ],
   "source": [
    "KNN = KNeighborsClassifier(n_neighbors=5)\n",
    "\n",
    "KNN.fit(X_train, y_train)\n",
    "\n",
    "y_predict = KNN.predict(X_val)\n",
    "\n",
    "# evaluate the model\n",
    "print(classification_report(y_val, y_predict))\n",
    "print(confusion_matrix(y_val, y_predict))"
   ]
  },
  {
   "cell_type": "markdown",
   "metadata": {},
   "source": [
    "# Voting Classifier"
   ]
  },
  {
   "cell_type": "code",
   "execution_count": 14,
   "metadata": {
    "execution": {
     "iopub.execute_input": "2021-12-23T06:45:30.715248Z",
     "iopub.status.busy": "2021-12-23T06:45:30.714864Z",
     "iopub.status.idle": "2021-12-23T06:45:30.826803Z",
     "shell.execute_reply": "2021-12-23T06:45:30.826082Z",
     "shell.execute_reply.started": "2021-12-23T06:45:30.715216Z"
    }
   },
   "outputs": [],
   "source": [
    "import xgboost as xgb"
   ]
  },
  {
   "cell_type": "code",
   "execution_count": 15,
   "metadata": {
    "execution": {
     "iopub.execute_input": "2021-12-23T06:45:30.829280Z",
     "iopub.status.busy": "2021-12-23T06:45:30.828620Z",
     "iopub.status.idle": "2021-12-23T06:45:30.834866Z",
     "shell.execute_reply": "2021-12-23T06:45:30.834007Z",
     "shell.execute_reply.started": "2021-12-23T06:45:30.829233Z"
    }
   },
   "outputs": [],
   "source": [
    "from sklearn.ensemble import VotingClassifier\n"
   ]
  },
  {
   "cell_type": "code",
   "execution_count": 16,
   "metadata": {
    "execution": {
     "iopub.execute_input": "2021-12-23T06:45:30.837216Z",
     "iopub.status.busy": "2021-12-23T06:45:30.836139Z",
     "iopub.status.idle": "2021-12-23T06:45:30.847292Z",
     "shell.execute_reply": "2021-12-23T06:45:30.846607Z",
     "shell.execute_reply.started": "2021-12-23T06:45:30.837154Z"
    }
   },
   "outputs": [],
   "source": [
    "xgb_cfl = xgb.XGBClassifier(n_jobs = -1, n_estimators = 100 ,max_depth=1)\n",
    "DT_clf = DecisionTreeClassifier(max_depth=2)\n",
    "rf_cfl =  RandomForestClassifier(n_estimators = 200,random_state = 42 , max_depth=2)"
   ]
  },
  {
   "cell_type": "markdown",
   "metadata": {},
   "source": [
    "### Train"
   ]
  },
  {
   "cell_type": "markdown",
   "metadata": {},
   "source": [
    "# Voting (xgb , dt , rf)"
   ]
  },
  {
   "cell_type": "code",
   "execution_count": 17,
   "metadata": {
    "execution": {
     "iopub.execute_input": "2021-12-23T06:45:30.849998Z",
     "iopub.status.busy": "2021-12-23T06:45:30.849375Z",
     "iopub.status.idle": "2021-12-23T06:46:32.637833Z",
     "shell.execute_reply": "2021-12-23T06:46:32.636809Z",
     "shell.execute_reply.started": "2021-12-23T06:45:30.849949Z"
    }
   },
   "outputs": [
    {
     "name": "stdout",
     "output_type": "stream",
     "text": [
      "[06:45:31] WARNING: ../src/learner.cc:1115: Starting in XGBoost 1.3.0, the default evaluation metric used with the objective 'binary:logistic' was changed from 'error' to 'logloss'. Explicitly set eval_metric if you'd like to restore the old behavior.\n",
      "              precision    recall  f1-score   support\n",
      "\n",
      "           0       1.00      1.00      1.00    170588\n",
      "           1       0.90      0.76      0.82       295\n",
      "\n",
      "    accuracy                           1.00    170883\n",
      "   macro avg       0.95      0.88      0.91    170883\n",
      "weighted avg       1.00      1.00      1.00    170883\n",
      "\n",
      "[[170563     25]\n",
      " [    71    224]]\n"
     ]
    }
   ],
   "source": [
    "vot = VotingClassifier (estimators = [('xgb', xgb_cfl), ('dt', DT_clf), ('rf', rf_cfl)], voting='soft')\n",
    "vot.fit(X_train, y_train)\n",
    "\n",
    "y_predict = vot.predict(X_train)\n",
    "\n",
    "# evaluate the model\n",
    "print(classification_report(y_train, y_predict))\n",
    "print(confusion_matrix(y_train, y_predict))"
   ]
  },
  {
   "cell_type": "markdown",
   "metadata": {},
   "source": [
    "### val"
   ]
  },
  {
   "cell_type": "code",
   "execution_count": 18,
   "metadata": {
    "execution": {
     "iopub.execute_input": "2021-12-23T06:46:32.640052Z",
     "iopub.status.busy": "2021-12-23T06:46:32.639702Z",
     "iopub.status.idle": "2021-12-23T06:47:34.018072Z",
     "shell.execute_reply": "2021-12-23T06:47:34.017349Z",
     "shell.execute_reply.started": "2021-12-23T06:46:32.640009Z"
    },
    "scrolled": true
   },
   "outputs": [
    {
     "name": "stdout",
     "output_type": "stream",
     "text": [
      "[06:46:33] WARNING: ../src/learner.cc:1115: Starting in XGBoost 1.3.0, the default evaluation metric used with the objective 'binary:logistic' was changed from 'error' to 'logloss'. Explicitly set eval_metric if you'd like to restore the old behavior.\n",
      "              precision    recall  f1-score   support\n",
      "\n",
      "           0       1.00      1.00      1.00     56863\n",
      "           1       0.84      0.72      0.77        99\n",
      "\n",
      "    accuracy                           1.00     56962\n",
      "   macro avg       0.92      0.86      0.89     56962\n",
      "weighted avg       1.00      1.00      1.00     56962\n",
      "\n",
      "[[56849    14]\n",
      " [   28    71]]\n"
     ]
    }
   ],
   "source": [
    "vot = VotingClassifier (estimators = [('xgb', xgb_cfl), ('dt', DT_clf), ('rf', rf_cfl)], voting='soft')\n",
    "vot.fit(X_train, y_train)\n",
    "\n",
    "y_predict = vot.predict(X_val)\n",
    "\n",
    "# evaluate the model\n",
    "print(classification_report(y_val, y_predict))\n",
    "print(confusion_matrix(y_val, y_predict))"
   ]
  },
  {
   "cell_type": "markdown",
   "metadata": {},
   "source": [
    "# "
   ]
  },
  {
   "cell_type": "markdown",
   "metadata": {},
   "source": [
    "# Voting (xgb , log , knn)"
   ]
  },
  {
   "cell_type": "code",
   "execution_count": 19,
   "metadata": {
    "execution": {
     "iopub.execute_input": "2021-12-23T06:47:34.019541Z",
     "iopub.status.busy": "2021-12-23T06:47:34.019178Z",
     "iopub.status.idle": "2021-12-23T06:47:34.024009Z",
     "shell.execute_reply": "2021-12-23T06:47:34.023334Z",
     "shell.execute_reply.started": "2021-12-23T06:47:34.019510Z"
    }
   },
   "outputs": [],
   "source": [
    "xgb_cfl = xgb.XGBClassifier(n_jobs = -1, n_estimators = 100 ,max_depth=1)\n",
    "log_cfl = LogisticRegression(C=0.95, random_state=0,solver='liblinear')"
   ]
  },
  {
   "cell_type": "code",
   "execution_count": 20,
   "metadata": {
    "execution": {
     "iopub.execute_input": "2021-12-23T06:47:34.025926Z",
     "iopub.status.busy": "2021-12-23T06:47:34.025378Z",
     "iopub.status.idle": "2021-12-23T06:56:07.529066Z",
     "shell.execute_reply": "2021-12-23T06:56:07.528217Z",
     "shell.execute_reply.started": "2021-12-23T06:47:34.025881Z"
    }
   },
   "outputs": [
    {
     "name": "stdout",
     "output_type": "stream",
     "text": [
      "[06:47:34] WARNING: ../src/learner.cc:1115: Starting in XGBoost 1.3.0, the default evaluation metric used with the objective 'binary:logistic' was changed from 'error' to 'logloss'. Explicitly set eval_metric if you'd like to restore the old behavior.\n",
      "              precision    recall  f1-score   support\n",
      "\n",
      "           0       1.00      1.00      1.00    170588\n",
      "           1       0.94      0.81      0.87       295\n",
      "\n",
      "    accuracy                           1.00    170883\n",
      "   macro avg       0.97      0.90      0.93    170883\n",
      "weighted avg       1.00      1.00      1.00    170883\n",
      "\n",
      "[[170574     14]\n",
      " [    57    238]]\n"
     ]
    }
   ],
   "source": [
    "vot = VotingClassifier (estimators = [('xgb', xgb_cfl), ('log', log_cfl), ('knn', KNN)], voting='soft')\n",
    "vot.fit(X_train, y_train)\n",
    "\n",
    "y_predict = vot.predict(X_train)\n",
    "\n",
    "# evaluate the model\n",
    "print(classification_report(y_train, y_predict))\n",
    "print(confusion_matrix(y_train, y_predict))"
   ]
  },
  {
   "cell_type": "code",
   "execution_count": 21,
   "metadata": {
    "execution": {
     "iopub.execute_input": "2021-12-23T06:56:07.530423Z",
     "iopub.status.busy": "2021-12-23T06:56:07.530219Z",
     "iopub.status.idle": "2021-12-23T06:59:22.165409Z",
     "shell.execute_reply": "2021-12-23T06:59:22.164504Z",
     "shell.execute_reply.started": "2021-12-23T06:56:07.530399Z"
    }
   },
   "outputs": [
    {
     "name": "stdout",
     "output_type": "stream",
     "text": [
      "[06:56:08] WARNING: ../src/learner.cc:1115: Starting in XGBoost 1.3.0, the default evaluation metric used with the objective 'binary:logistic' was changed from 'error' to 'logloss'. Explicitly set eval_metric if you'd like to restore the old behavior.\n",
      "              precision    recall  f1-score   support\n",
      "\n",
      "           0       1.00      1.00      1.00     56863\n",
      "           1       0.89      0.77      0.83        99\n",
      "\n",
      "    accuracy                           1.00     56962\n",
      "   macro avg       0.95      0.88      0.91     56962\n",
      "weighted avg       1.00      1.00      1.00     56962\n",
      "\n",
      "[[56854     9]\n",
      " [   23    76]]\n"
     ]
    }
   ],
   "source": [
    "vot = VotingClassifier(estimators = [('xgb', xgb_cfl), ('dt', log_cfl), ('rf', KNN)] ,voting='soft')\n",
    "vot.fit(X_train, y_train)\n",
    "\n",
    "y_predict = vot.predict(X_val)\n",
    "\n",
    "# evaluate the model\n",
    "print(classification_report(y_val, y_predict))\n",
    "print(confusion_matrix(y_val, y_predict))"
   ]
  },
  {
   "cell_type": "markdown",
   "metadata": {},
   "source": [
    "# RandomForestClassifier"
   ]
  },
  {
   "cell_type": "markdown",
   "metadata": {},
   "source": [
    "### Train"
   ]
  },
  {
   "cell_type": "code",
   "execution_count": 22,
   "metadata": {
    "execution": {
     "iopub.execute_input": "2021-12-23T06:59:22.167305Z",
     "iopub.status.busy": "2021-12-23T06:59:22.166923Z",
     "iopub.status.idle": "2021-12-23T07:00:11.662544Z",
     "shell.execute_reply": "2021-12-23T07:00:11.661628Z",
     "shell.execute_reply.started": "2021-12-23T06:59:22.167259Z"
    }
   },
   "outputs": [
    {
     "name": "stdout",
     "output_type": "stream",
     "text": [
      "              precision    recall  f1-score   support\n",
      "\n",
      "           0       1.00      1.00      1.00    170588\n",
      "           1       0.88      0.59      0.71       295\n",
      "\n",
      "    accuracy                           1.00    170883\n",
      "   macro avg       0.94      0.80      0.85    170883\n",
      "weighted avg       1.00      1.00      1.00    170883\n",
      "\n",
      "[[170565     23]\n",
      " [   120    175]]\n"
     ]
    }
   ],
   "source": [
    "rf_cfl = RandomForestClassifier(n_estimators = 200,random_state = 42 , max_depth=2)\n",
    "\n",
    "rf_cfl.fit(X_train, y_train)\n",
    "\n",
    "y_predict = rf_cfl.predict(X_train)\n",
    "\n",
    "# evaluate the model\n",
    "print(classification_report(y_train, y_predict))\n",
    "print(confusion_matrix(y_train, y_predict))"
   ]
  },
  {
   "cell_type": "markdown",
   "metadata": {},
   "source": [
    "### val"
   ]
  },
  {
   "cell_type": "code",
   "execution_count": 23,
   "metadata": {
    "execution": {
     "iopub.execute_input": "2021-12-23T07:00:11.664272Z",
     "iopub.status.busy": "2021-12-23T07:00:11.663962Z",
     "iopub.status.idle": "2021-12-23T07:00:59.546104Z",
     "shell.execute_reply": "2021-12-23T07:00:59.545516Z",
     "shell.execute_reply.started": "2021-12-23T07:00:11.664231Z"
    },
    "scrolled": true
   },
   "outputs": [
    {
     "name": "stdout",
     "output_type": "stream",
     "text": [
      "              precision    recall  f1-score   support\n",
      "\n",
      "           0       1.00      1.00      1.00     56863\n",
      "           1       0.83      0.54      0.65        99\n",
      "\n",
      "    accuracy                           1.00     56962\n",
      "   macro avg       0.91      0.77      0.82     56962\n",
      "weighted avg       1.00      1.00      1.00     56962\n",
      "\n",
      "[[56852    11]\n",
      " [   46    53]]\n"
     ]
    }
   ],
   "source": [
    "rf_cfl = RandomForestClassifier(n_estimators = 200,random_state = 42 , max_depth=2)\n",
    "\n",
    "rf_cfl.fit(X_train, y_train)\n",
    "\n",
    "y_predict = rf_cfl.predict(X_val)\n",
    "\n",
    "# evaluate the model\n",
    "print(classification_report(y_val, y_predict))\n",
    "print(confusion_matrix(y_val, y_predict))"
   ]
  },
  {
   "cell_type": "code",
   "execution_count": 24,
   "metadata": {
    "execution": {
     "iopub.execute_input": "2021-12-23T07:00:59.547764Z",
     "iopub.status.busy": "2021-12-23T07:00:59.547137Z",
     "iopub.status.idle": "2021-12-23T07:00:59.550969Z",
     "shell.execute_reply": "2021-12-23T07:00:59.550389Z",
     "shell.execute_reply.started": "2021-12-23T07:00:59.547731Z"
    }
   },
   "outputs": [],
   "source": [
    "from sklearn.ensemble import BaggingClassifier"
   ]
  },
  {
   "cell_type": "markdown",
   "metadata": {},
   "source": [
    "# BaggingClassifier"
   ]
  },
  {
   "cell_type": "markdown",
   "metadata": {},
   "source": [
    "### Train"
   ]
  },
  {
   "cell_type": "code",
   "execution_count": 25,
   "metadata": {
    "execution": {
     "iopub.execute_input": "2021-12-23T07:00:59.552554Z",
     "iopub.status.busy": "2021-12-23T07:00:59.552188Z",
     "iopub.status.idle": "2021-12-23T07:00:59.563609Z",
     "shell.execute_reply": "2021-12-23T07:00:59.562897Z",
     "shell.execute_reply.started": "2021-12-23T07:00:59.552526Z"
    }
   },
   "outputs": [],
   "source": [
    "from sklearn.ensemble import BaggingClassifier"
   ]
  },
  {
   "cell_type": "code",
   "execution_count": 26,
   "metadata": {
    "execution": {
     "iopub.execute_input": "2021-12-23T07:00:59.565306Z",
     "iopub.status.busy": "2021-12-23T07:00:59.565046Z",
     "iopub.status.idle": "2021-12-23T07:00:59.574159Z",
     "shell.execute_reply": "2021-12-23T07:00:59.573278Z",
     "shell.execute_reply.started": "2021-12-23T07:00:59.565276Z"
    }
   },
   "outputs": [],
   "source": [
    "DT_clf = DecisionTreeClassifier(max_depth=2)"
   ]
  },
  {
   "cell_type": "code",
   "execution_count": 27,
   "metadata": {
    "execution": {
     "iopub.execute_input": "2021-12-23T07:00:59.575465Z",
     "iopub.status.busy": "2021-12-23T07:00:59.575242Z",
     "iopub.status.idle": "2021-12-23T07:02:40.892972Z",
     "shell.execute_reply": "2021-12-23T07:02:40.891927Z",
     "shell.execute_reply.started": "2021-12-23T07:00:59.575437Z"
    }
   },
   "outputs": [
    {
     "name": "stdout",
     "output_type": "stream",
     "text": [
      "              precision    recall  f1-score   support\n",
      "\n",
      "           0       1.00      1.00      1.00    170588\n",
      "           1       0.85      0.75      0.80       295\n",
      "\n",
      "    accuracy                           1.00    170883\n",
      "   macro avg       0.92      0.88      0.90    170883\n",
      "weighted avg       1.00      1.00      1.00    170883\n",
      "\n",
      "[[170548     40]\n",
      " [    73    222]]\n"
     ]
    }
   ],
   "source": [
    "bag_clf = BaggingClassifier(DT_clf, n_estimators=200 , n_jobs=-1)\n",
    "\n",
    "bag_clf.fit(X_train, y_train)\n",
    "\n",
    "y_predict = bag_clf.predict(X_train)\n",
    "\n",
    "# evaluate the model\n",
    "print(classification_report(y_train, y_predict))\n",
    "print(confusion_matrix(y_train, y_predict))"
   ]
  },
  {
   "cell_type": "markdown",
   "metadata": {},
   "source": [
    "### val"
   ]
  },
  {
   "cell_type": "code",
   "execution_count": 28,
   "metadata": {
    "execution": {
     "iopub.execute_input": "2021-12-23T07:02:40.898321Z",
     "iopub.status.busy": "2021-12-23T07:02:40.897974Z",
     "iopub.status.idle": "2021-12-23T07:04:16.472043Z",
     "shell.execute_reply": "2021-12-23T07:04:16.471121Z",
     "shell.execute_reply.started": "2021-12-23T07:02:40.898288Z"
    }
   },
   "outputs": [
    {
     "name": "stdout",
     "output_type": "stream",
     "text": [
      "              precision    recall  f1-score   support\n",
      "\n",
      "           0       1.00      1.00      1.00     56863\n",
      "           1       0.79      0.73      0.76        99\n",
      "\n",
      "    accuracy                           1.00     56962\n",
      "   macro avg       0.90      0.86      0.88     56962\n",
      "weighted avg       1.00      1.00      1.00     56962\n",
      "\n",
      "[[56844    19]\n",
      " [   27    72]]\n"
     ]
    }
   ],
   "source": [
    "bag_clf = BaggingClassifier(DT_clf, n_estimators=200 , n_jobs=-1)\n",
    "\n",
    "bag_clf.fit(X_train, y_train)\n",
    "\n",
    "y_predict = bag_clf.predict(X_val)\n",
    "\n",
    "# evaluate the model\n",
    "print(classification_report(y_val, y_predict))\n",
    "print(confusion_matrix(y_val, y_predict))"
   ]
  },
  {
   "cell_type": "markdown",
   "metadata": {},
   "source": [
    "### StackingClassifier"
   ]
  },
  {
   "cell_type": "markdown",
   "metadata": {},
   "source": [
    "### Train"
   ]
  },
  {
   "cell_type": "code",
   "execution_count": 29,
   "metadata": {
    "execution": {
     "iopub.execute_input": "2021-12-23T07:04:16.474055Z",
     "iopub.status.busy": "2021-12-23T07:04:16.473701Z",
     "iopub.status.idle": "2021-12-23T07:04:16.478803Z",
     "shell.execute_reply": "2021-12-23T07:04:16.477932Z",
     "shell.execute_reply.started": "2021-12-23T07:04:16.474001Z"
    }
   },
   "outputs": [],
   "source": [
    "from sklearn.ensemble import StackingClassifier"
   ]
  },
  {
   "cell_type": "code",
   "execution_count": 30,
   "metadata": {
    "execution": {
     "iopub.execute_input": "2021-12-23T07:04:16.480459Z",
     "iopub.status.busy": "2021-12-23T07:04:16.480230Z",
     "iopub.status.idle": "2021-12-23T07:04:16.491566Z",
     "shell.execute_reply": "2021-12-23T07:04:16.490927Z",
     "shell.execute_reply.started": "2021-12-23T07:04:16.480431Z"
    }
   },
   "outputs": [],
   "source": [
    "xgb_cfl = xgb.XGBClassifier(n_jobs = -1, n_estimators = 100 ,max_depth=1)\n",
    "DT_clf = DecisionTreeClassifier(max_depth=2)\n",
    "rf_cfl =  RandomForestClassifier(n_estimators = 200,random_state = 42 , max_depth=2)"
   ]
  },
  {
   "cell_type": "markdown",
   "metadata": {},
   "source": [
    "# Stacking (xgb , log , rf)"
   ]
  },
  {
   "cell_type": "code",
   "execution_count": 31,
   "metadata": {
    "execution": {
     "iopub.execute_input": "2021-12-23T07:04:16.493295Z",
     "iopub.status.busy": "2021-12-23T07:04:16.493059Z",
     "iopub.status.idle": "2021-12-23T07:09:24.686495Z",
     "shell.execute_reply": "2021-12-23T07:09:24.685558Z",
     "shell.execute_reply.started": "2021-12-23T07:04:16.493267Z"
    },
    "scrolled": true
   },
   "outputs": [
    {
     "name": "stdout",
     "output_type": "stream",
     "text": [
      "[07:04:17] WARNING: ../src/learner.cc:1115: Starting in XGBoost 1.3.0, the default evaluation metric used with the objective 'binary:logistic' was changed from 'error' to 'logloss'. Explicitly set eval_metric if you'd like to restore the old behavior.\n",
      "[07:05:18] WARNING: ../src/learner.cc:1115: Starting in XGBoost 1.3.0, the default evaluation metric used with the objective 'binary:logistic' was changed from 'error' to 'logloss'. Explicitly set eval_metric if you'd like to restore the old behavior.\n",
      "[07:05:26] WARNING: ../src/learner.cc:1115: Starting in XGBoost 1.3.0, the default evaluation metric used with the objective 'binary:logistic' was changed from 'error' to 'logloss'. Explicitly set eval_metric if you'd like to restore the old behavior.\n",
      "[07:05:35] WARNING: ../src/learner.cc:1115: Starting in XGBoost 1.3.0, the default evaluation metric used with the objective 'binary:logistic' was changed from 'error' to 'logloss'. Explicitly set eval_metric if you'd like to restore the old behavior.\n",
      "[07:05:43] WARNING: ../src/learner.cc:1115: Starting in XGBoost 1.3.0, the default evaluation metric used with the objective 'binary:logistic' was changed from 'error' to 'logloss'. Explicitly set eval_metric if you'd like to restore the old behavior.\n",
      "[07:05:51] WARNING: ../src/learner.cc:1115: Starting in XGBoost 1.3.0, the default evaluation metric used with the objective 'binary:logistic' was changed from 'error' to 'logloss'. Explicitly set eval_metric if you'd like to restore the old behavior.\n",
      "              precision    recall  f1-score   support\n",
      "\n",
      "           0       1.00      1.00      1.00    170588\n",
      "           1       0.95      0.77      0.85       295\n",
      "\n",
      "    accuracy                           1.00    170883\n",
      "   macro avg       0.98      0.88      0.93    170883\n",
      "weighted avg       1.00      1.00      1.00    170883\n",
      "\n",
      "[[170577     11]\n",
      " [    68    227]]\n"
     ]
    }
   ],
   "source": [
    "STC = StackingClassifier([('xgb', xgb_cfl), ('lt', log_cfl), ('rf', rf_cfl)])\n",
    "\n",
    "STC.fit(X_train, y_train)\n",
    "y_predict = STC.predict(X_train)\n",
    "\n",
    "# evaluate the model\n",
    "print(classification_report(y_train, y_predict))\n",
    "print(confusion_matrix(y_train, y_predict))"
   ]
  },
  {
   "cell_type": "markdown",
   "metadata": {},
   "source": [
    "### val"
   ]
  },
  {
   "cell_type": "code",
   "execution_count": 32,
   "metadata": {
    "execution": {
     "iopub.execute_input": "2021-12-23T07:09:24.688771Z",
     "iopub.status.busy": "2021-12-23T07:09:24.687868Z",
     "iopub.status.idle": "2021-12-23T07:14:31.949693Z",
     "shell.execute_reply": "2021-12-23T07:14:31.948664Z",
     "shell.execute_reply.started": "2021-12-23T07:09:24.688717Z"
    }
   },
   "outputs": [
    {
     "name": "stdout",
     "output_type": "stream",
     "text": [
      "[07:09:25] WARNING: ../src/learner.cc:1115: Starting in XGBoost 1.3.0, the default evaluation metric used with the objective 'binary:logistic' was changed from 'error' to 'logloss'. Explicitly set eval_metric if you'd like to restore the old behavior.\n",
      "[07:10:26] WARNING: ../src/learner.cc:1115: Starting in XGBoost 1.3.0, the default evaluation metric used with the objective 'binary:logistic' was changed from 'error' to 'logloss'. Explicitly set eval_metric if you'd like to restore the old behavior.\n",
      "[07:10:34] WARNING: ../src/learner.cc:1115: Starting in XGBoost 1.3.0, the default evaluation metric used with the objective 'binary:logistic' was changed from 'error' to 'logloss'. Explicitly set eval_metric if you'd like to restore the old behavior.\n",
      "[07:10:42] WARNING: ../src/learner.cc:1115: Starting in XGBoost 1.3.0, the default evaluation metric used with the objective 'binary:logistic' was changed from 'error' to 'logloss'. Explicitly set eval_metric if you'd like to restore the old behavior.\n",
      "[07:10:51] WARNING: ../src/learner.cc:1115: Starting in XGBoost 1.3.0, the default evaluation metric used with the objective 'binary:logistic' was changed from 'error' to 'logloss'. Explicitly set eval_metric if you'd like to restore the old behavior.\n",
      "[07:11:00] WARNING: ../src/learner.cc:1115: Starting in XGBoost 1.3.0, the default evaluation metric used with the objective 'binary:logistic' was changed from 'error' to 'logloss'. Explicitly set eval_metric if you'd like to restore the old behavior.\n",
      "              precision    recall  f1-score   support\n",
      "\n",
      "           0       1.00      1.00      1.00     56863\n",
      "           1       0.91      0.71      0.80        99\n",
      "\n",
      "    accuracy                           1.00     56962\n",
      "   macro avg       0.95      0.85      0.90     56962\n",
      "weighted avg       1.00      1.00      1.00     56962\n",
      "\n",
      "[[56856     7]\n",
      " [   29    70]]\n"
     ]
    }
   ],
   "source": [
    "STC = StackingClassifier([('xgb', xgb_cfl), ('lt', log_cfl), ('rf', rf_cfl)])\n",
    "STC.fit(X_train, y_train)\n",
    "\n",
    "y_predict = STC.predict(X_val)\n",
    "\n",
    "# evaluate the model\n",
    "print(classification_report(y_val, y_predict))\n",
    "print(confusion_matrix(y_val, y_predict))"
   ]
  },
  {
   "cell_type": "markdown",
   "metadata": {},
   "source": [
    "# Stacking (xgb , log , knn)"
   ]
  },
  {
   "cell_type": "code",
   "execution_count": 33,
   "metadata": {
    "execution": {
     "iopub.execute_input": "2021-12-23T07:14:31.951561Z",
     "iopub.status.busy": "2021-12-23T07:14:31.951234Z",
     "iopub.status.idle": "2021-12-23T07:32:10.915723Z",
     "shell.execute_reply": "2021-12-23T07:32:10.915054Z",
     "shell.execute_reply.started": "2021-12-23T07:14:31.951516Z"
    }
   },
   "outputs": [
    {
     "name": "stdout",
     "output_type": "stream",
     "text": [
      "[07:14:32] WARNING: ../src/learner.cc:1115: Starting in XGBoost 1.3.0, the default evaluation metric used with the objective 'binary:logistic' was changed from 'error' to 'logloss'. Explicitly set eval_metric if you'd like to restore the old behavior.\n",
      "[07:14:46] WARNING: ../src/learner.cc:1115: Starting in XGBoost 1.3.0, the default evaluation metric used with the objective 'binary:logistic' was changed from 'error' to 'logloss'. Explicitly set eval_metric if you'd like to restore the old behavior.\n",
      "[07:14:55] WARNING: ../src/learner.cc:1115: Starting in XGBoost 1.3.0, the default evaluation metric used with the objective 'binary:logistic' was changed from 'error' to 'logloss'. Explicitly set eval_metric if you'd like to restore the old behavior.\n",
      "[07:15:03] WARNING: ../src/learner.cc:1115: Starting in XGBoost 1.3.0, the default evaluation metric used with the objective 'binary:logistic' was changed from 'error' to 'logloss'. Explicitly set eval_metric if you'd like to restore the old behavior.\n",
      "[07:15:12] WARNING: ../src/learner.cc:1115: Starting in XGBoost 1.3.0, the default evaluation metric used with the objective 'binary:logistic' was changed from 'error' to 'logloss'. Explicitly set eval_metric if you'd like to restore the old behavior.\n",
      "[07:15:20] WARNING: ../src/learner.cc:1115: Starting in XGBoost 1.3.0, the default evaluation metric used with the objective 'binary:logistic' was changed from 'error' to 'logloss'. Explicitly set eval_metric if you'd like to restore the old behavior.\n",
      "              precision    recall  f1-score   support\n",
      "\n",
      "           0       1.00      1.00      1.00    170588\n",
      "           1       0.97      0.81      0.88       295\n",
      "\n",
      "    accuracy                           1.00    170883\n",
      "   macro avg       0.99      0.90      0.94    170883\n",
      "weighted avg       1.00      1.00      1.00    170883\n",
      "\n",
      "[[170581      7]\n",
      " [    57    238]]\n"
     ]
    }
   ],
   "source": [
    "STC = StackingClassifier([('xgb', xgb_cfl), ('log', log_cfl), ('knn', KNN)])\n",
    "\n",
    "STC.fit(X_train, y_train)\n",
    "y_predict = STC.predict(X_train)\n",
    "\n",
    "# evaluate the model\n",
    "print(classification_report(y_train, y_predict))\n",
    "print(confusion_matrix(y_train, y_predict))"
   ]
  },
  {
   "cell_type": "code",
   "execution_count": 34,
   "metadata": {
    "execution": {
     "iopub.execute_input": "2021-12-23T07:32:10.917699Z",
     "iopub.status.busy": "2021-12-23T07:32:10.916916Z",
     "iopub.status.idle": "2021-12-23T07:44:27.637695Z",
     "shell.execute_reply": "2021-12-23T07:44:27.636787Z",
     "shell.execute_reply.started": "2021-12-23T07:32:10.917662Z"
    }
   },
   "outputs": [
    {
     "name": "stdout",
     "output_type": "stream",
     "text": [
      "[07:32:11] WARNING: ../src/learner.cc:1115: Starting in XGBoost 1.3.0, the default evaluation metric used with the objective 'binary:logistic' was changed from 'error' to 'logloss'. Explicitly set eval_metric if you'd like to restore the old behavior.\n",
      "[07:32:25] WARNING: ../src/learner.cc:1115: Starting in XGBoost 1.3.0, the default evaluation metric used with the objective 'binary:logistic' was changed from 'error' to 'logloss'. Explicitly set eval_metric if you'd like to restore the old behavior.\n",
      "[07:32:34] WARNING: ../src/learner.cc:1115: Starting in XGBoost 1.3.0, the default evaluation metric used with the objective 'binary:logistic' was changed from 'error' to 'logloss'. Explicitly set eval_metric if you'd like to restore the old behavior.\n",
      "[07:32:42] WARNING: ../src/learner.cc:1115: Starting in XGBoost 1.3.0, the default evaluation metric used with the objective 'binary:logistic' was changed from 'error' to 'logloss'. Explicitly set eval_metric if you'd like to restore the old behavior.\n",
      "[07:32:51] WARNING: ../src/learner.cc:1115: Starting in XGBoost 1.3.0, the default evaluation metric used with the objective 'binary:logistic' was changed from 'error' to 'logloss'. Explicitly set eval_metric if you'd like to restore the old behavior.\n",
      "[07:32:59] WARNING: ../src/learner.cc:1115: Starting in XGBoost 1.3.0, the default evaluation metric used with the objective 'binary:logistic' was changed from 'error' to 'logloss'. Explicitly set eval_metric if you'd like to restore the old behavior.\n",
      "              precision    recall  f1-score   support\n",
      "\n",
      "           0       1.00      1.00      1.00     56863\n",
      "           1       0.93      0.76      0.83        99\n",
      "\n",
      "    accuracy                           1.00     56962\n",
      "   macro avg       0.96      0.88      0.92     56962\n",
      "weighted avg       1.00      1.00      1.00     56962\n",
      "\n",
      "[[56857     6]\n",
      " [   24    75]]\n"
     ]
    }
   ],
   "source": [
    "STC = StackingClassifier([('xgb', xgb_cfl), ('log', log_cfl), ('knn', KNN)])\n",
    "\n",
    "STC.fit(X_train, y_train)\n",
    "y_predict = STC.predict(X_val)\n",
    "\n",
    "# evaluate the model\n",
    "print(classification_report(y_val, y_predict))\n",
    "print(confusion_matrix(y_val, y_predict))"
   ]
  },
  {
   "cell_type": "markdown",
   "metadata": {},
   "source": [
    "### SVM "
   ]
  },
  {
   "cell_type": "code",
   "execution_count": 35,
   "metadata": {
    "execution": {
     "iopub.execute_input": "2021-12-23T07:44:27.639551Z",
     "iopub.status.busy": "2021-12-23T07:44:27.639230Z",
     "iopub.status.idle": "2021-12-23T07:44:27.644678Z",
     "shell.execute_reply": "2021-12-23T07:44:27.643783Z",
     "shell.execute_reply.started": "2021-12-23T07:44:27.639507Z"
    }
   },
   "outputs": [],
   "source": [
    "from sklearn import svm"
   ]
  },
  {
   "cell_type": "markdown",
   "metadata": {},
   "source": [
    "### Train"
   ]
  },
  {
   "cell_type": "code",
   "execution_count": 36,
   "metadata": {
    "execution": {
     "iopub.execute_input": "2021-12-23T07:44:27.646476Z",
     "iopub.status.busy": "2021-12-23T07:44:27.645783Z",
     "iopub.status.idle": "2021-12-23T07:50:25.479462Z",
     "shell.execute_reply": "2021-12-23T07:50:25.478535Z",
     "shell.execute_reply.started": "2021-12-23T07:44:27.646440Z"
    },
    "scrolled": true
   },
   "outputs": [
    {
     "name": "stdout",
     "output_type": "stream",
     "text": [
      "              precision    recall  f1-score   support\n",
      "\n",
      "           0       1.00      1.00      1.00    170588\n",
      "           1       0.85      0.82      0.84       295\n",
      "\n",
      "    accuracy                           1.00    170883\n",
      "   macro avg       0.93      0.91      0.92    170883\n",
      "weighted avg       1.00      1.00      1.00    170883\n",
      "\n",
      "[[170546     42]\n",
      " [    53    242]]\n"
     ]
    }
   ],
   "source": [
    "svm = svm.SVC(kernel='linear')\n",
    "\n",
    "svm.fit(X_train, y_train)\n",
    "\n",
    "y_predict = svm.predict(X_train)\n",
    "\n",
    "# evaluate the model\n",
    "print(classification_report(y_train, y_predict))\n",
    "print(confusion_matrix(y_train, y_predict))"
   ]
  },
  {
   "cell_type": "markdown",
   "metadata": {},
   "source": [
    "### Val"
   ]
  },
  {
   "cell_type": "code",
   "execution_count": 38,
   "metadata": {
    "execution": {
     "iopub.execute_input": "2021-12-23T08:02:57.642151Z",
     "iopub.status.busy": "2021-12-23T08:02:57.641787Z",
     "iopub.status.idle": "2021-12-23T08:02:57.647061Z",
     "shell.execute_reply": "2021-12-23T08:02:57.645990Z",
     "shell.execute_reply.started": "2021-12-23T08:02:57.642113Z"
    }
   },
   "outputs": [],
   "source": [
    "from sklearn import svm"
   ]
  },
  {
   "cell_type": "code",
   "execution_count": 39,
   "metadata": {
    "execution": {
     "iopub.execute_input": "2021-12-23T08:02:58.241570Z",
     "iopub.status.busy": "2021-12-23T08:02:58.241245Z",
     "iopub.status.idle": "2021-12-23T08:08:55.067792Z",
     "shell.execute_reply": "2021-12-23T08:08:55.066860Z",
     "shell.execute_reply.started": "2021-12-23T08:02:58.241536Z"
    }
   },
   "outputs": [
    {
     "name": "stdout",
     "output_type": "stream",
     "text": [
      "              precision    recall  f1-score   support\n",
      "\n",
      "           0       1.00      1.00      1.00     56863\n",
      "           1       0.83      0.82      0.82        99\n",
      "\n",
      "    accuracy                           1.00     56962\n",
      "   macro avg       0.91      0.91      0.91     56962\n",
      "weighted avg       1.00      1.00      1.00     56962\n",
      "\n",
      "[[56846    17]\n",
      " [   18    81]]\n"
     ]
    }
   ],
   "source": [
    "svm = svm.SVC(kernel='linear')\n",
    "\n",
    "svm.fit(X_train, y_train)\n",
    "\n",
    "y_predict = svm.predict(X_val)\n",
    "\n",
    "# evaluate the model\n",
    "print(classification_report(y_val, y_predict))\n",
    "print(confusion_matrix(y_val, y_predict))"
   ]
  },
  {
   "cell_type": "markdown",
   "metadata": {},
   "source": [
    "# DecisionTreeClassifier"
   ]
  },
  {
   "cell_type": "markdown",
   "metadata": {},
   "source": [
    "### Train"
   ]
  },
  {
   "cell_type": "code",
   "execution_count": 40,
   "metadata": {
    "execution": {
     "iopub.execute_input": "2021-12-23T08:09:06.032040Z",
     "iopub.status.busy": "2021-12-23T08:09:06.031735Z",
     "iopub.status.idle": "2021-12-23T08:09:08.388126Z",
     "shell.execute_reply": "2021-12-23T08:09:08.387087Z",
     "shell.execute_reply.started": "2021-12-23T08:09:06.032009Z"
    },
    "scrolled": true
   },
   "outputs": [
    {
     "name": "stdout",
     "output_type": "stream",
     "text": [
      "              precision    recall  f1-score   support\n",
      "\n",
      "           0       1.00      1.00      1.00    170588\n",
      "           1       0.85      0.76      0.80       295\n",
      "\n",
      "    accuracy                           1.00    170883\n",
      "   macro avg       0.92      0.88      0.90    170883\n",
      "weighted avg       1.00      1.00      1.00    170883\n",
      "\n",
      "[[170547     41]\n",
      " [    70    225]]\n"
     ]
    }
   ],
   "source": [
    "dtc_cfl = DecisionTreeClassifier(random_state=1,max_depth=2)\n",
    "\n",
    "dtc_cfl.fit(X_train, y_train)\n",
    "\n",
    "y_predict = dtc_cfl.predict(X_train)\n",
    "\n",
    "# evaluate the model\n",
    "print(classification_report(y_train, y_predict))\n",
    "print(confusion_matrix(y_train, y_predict))"
   ]
  },
  {
   "cell_type": "markdown",
   "metadata": {},
   "source": [
    "### val"
   ]
  },
  {
   "cell_type": "code",
   "execution_count": 41,
   "metadata": {
    "execution": {
     "iopub.execute_input": "2021-12-23T08:09:08.390586Z",
     "iopub.status.busy": "2021-12-23T08:09:08.390238Z",
     "iopub.status.idle": "2021-12-23T08:09:10.447767Z",
     "shell.execute_reply": "2021-12-23T08:09:10.446886Z",
     "shell.execute_reply.started": "2021-12-23T08:09:08.390543Z"
    }
   },
   "outputs": [
    {
     "name": "stdout",
     "output_type": "stream",
     "text": [
      "              precision    recall  f1-score   support\n",
      "\n",
      "           0       1.00      1.00      1.00     56863\n",
      "           1       0.78      0.74      0.76        99\n",
      "\n",
      "    accuracy                           1.00     56962\n",
      "   macro avg       0.89      0.87      0.88     56962\n",
      "weighted avg       1.00      1.00      1.00     56962\n",
      "\n",
      "[[56843    20]\n",
      " [   26    73]]\n"
     ]
    }
   ],
   "source": [
    "dtc_cfl = DecisionTreeClassifier(random_state=1,max_depth=2)\n",
    "\n",
    "dtc_cfl.fit(X_train, y_train)\n",
    "\n",
    "y_predict = dtc_cfl.predict(X_val)\n",
    "\n",
    "# evaluate the model\n",
    "print(classification_report(y_val, y_predict))\n",
    "print(confusion_matrix(y_val, y_predict))"
   ]
  },
  {
   "cell_type": "markdown",
   "metadata": {},
   "source": [
    "# XGBClassifier"
   ]
  },
  {
   "cell_type": "markdown",
   "metadata": {},
   "source": [
    "### Train"
   ]
  },
  {
   "cell_type": "code",
   "execution_count": 42,
   "metadata": {
    "execution": {
     "iopub.execute_input": "2021-12-23T08:09:10.449696Z",
     "iopub.status.busy": "2021-12-23T08:09:10.449044Z",
     "iopub.status.idle": "2021-12-23T08:09:21.574753Z",
     "shell.execute_reply": "2021-12-23T08:09:21.573853Z",
     "shell.execute_reply.started": "2021-12-23T08:09:10.449642Z"
    }
   },
   "outputs": [
    {
     "name": "stdout",
     "output_type": "stream",
     "text": [
      "[08:09:10] WARNING: ../src/learner.cc:1115: Starting in XGBoost 1.3.0, the default evaluation metric used with the objective 'binary:logistic' was changed from 'error' to 'logloss'. Explicitly set eval_metric if you'd like to restore the old behavior.\n",
      "              precision    recall  f1-score   support\n",
      "\n",
      "           0       1.00      1.00      1.00    170588\n",
      "           1       0.94      0.82      0.87       295\n",
      "\n",
      "    accuracy                           1.00    170883\n",
      "   macro avg       0.97      0.91      0.94    170883\n",
      "weighted avg       1.00      1.00      1.00    170883\n",
      "\n",
      "[[170573     15]\n",
      " [    54    241]]\n"
     ]
    }
   ],
   "source": [
    "xgb_cfl = xgb.XGBClassifier(n_jobs = -1, n_estimators = 100,max_depth=1)\n",
    "xgb_cfl.fit(X_train, y_train)\n",
    "\n",
    "y_predict = xgb_cfl.predict(X_train)\n",
    "\n",
    "# evaluate the model\n",
    "print(classification_report(y_train, y_predict))\n",
    "print(confusion_matrix(y_train, y_predict))"
   ]
  },
  {
   "cell_type": "markdown",
   "metadata": {},
   "source": [
    "### val"
   ]
  },
  {
   "cell_type": "code",
   "execution_count": 43,
   "metadata": {
    "execution": {
     "iopub.execute_input": "2021-12-23T08:09:21.576888Z",
     "iopub.status.busy": "2021-12-23T08:09:21.576552Z",
     "iopub.status.idle": "2021-12-23T08:09:31.748871Z",
     "shell.execute_reply": "2021-12-23T08:09:31.748007Z",
     "shell.execute_reply.started": "2021-12-23T08:09:21.576831Z"
    }
   },
   "outputs": [
    {
     "name": "stdout",
     "output_type": "stream",
     "text": [
      "[08:09:22] WARNING: ../src/learner.cc:1115: Starting in XGBoost 1.3.0, the default evaluation metric used with the objective 'binary:logistic' was changed from 'error' to 'logloss'. Explicitly set eval_metric if you'd like to restore the old behavior.\n",
      "              precision    recall  f1-score   support\n",
      "\n",
      "           0       1.00      1.00      1.00     56863\n",
      "           1       0.89      0.78      0.83        99\n",
      "\n",
      "    accuracy                           1.00     56962\n",
      "   macro avg       0.94      0.89      0.91     56962\n",
      "weighted avg       1.00      1.00      1.00     56962\n",
      "\n",
      "[[56853    10]\n",
      " [   22    77]]\n"
     ]
    }
   ],
   "source": [
    "xgb_cfl = xgb.XGBClassifier(n_jobs = -1, n_estimators = 100 ,max_depth=1)\n",
    "xgb_cfl.fit(X_train, y_train)\n",
    "\n",
    "y_predict = xgb_cfl.predict(X_val)\n",
    "\n",
    "# evaluate the model\n",
    "print(classification_report(y_val, y_predict))\n",
    "print(confusion_matrix(y_val, y_predict))"
   ]
  },
  {
   "cell_type": "markdown",
   "metadata": {},
   "source": [
    "# Test"
   ]
  },
  {
   "cell_type": "markdown",
   "metadata": {},
   "source": [
    "### After trying more than one model, it became clear that the best prediction model is the SVM model because we are interested in ( recall )."
   ]
  },
  {
   "cell_type": "code",
   "execution_count": 44,
   "metadata": {
    "execution": {
     "iopub.execute_input": "2021-12-23T08:09:31.750252Z",
     "iopub.status.busy": "2021-12-23T08:09:31.750014Z",
     "iopub.status.idle": "2021-12-23T08:09:31.783933Z",
     "shell.execute_reply": "2021-12-23T08:09:31.782780Z",
     "shell.execute_reply.started": "2021-12-23T08:09:31.750223Z"
    }
   },
   "outputs": [],
   "source": [
    "df_test['scaled_amount'] = rob_scaler.fit_transform(df_test['Amount'].values.reshape(-1,1))\n",
    "df_test['scaled_time'] = rob_scaler.fit_transform(df_test['Time'].values.reshape(-1,1))\n",
    "\n",
    "df_test.drop(['Time','Amount'], axis=1, inplace=True)"
   ]
  },
  {
   "cell_type": "code",
   "execution_count": 45,
   "metadata": {
    "execution": {
     "iopub.execute_input": "2021-12-23T08:09:31.785875Z",
     "iopub.status.busy": "2021-12-23T08:09:31.785440Z",
     "iopub.status.idle": "2021-12-23T08:09:31.795064Z",
     "shell.execute_reply": "2021-12-23T08:09:31.793997Z",
     "shell.execute_reply.started": "2021-12-23T08:09:31.785817Z"
    }
   },
   "outputs": [],
   "source": [
    "X_test= df_test.drop([\"Class\"], axis = 1)\n",
    "y_test = df_test[\"Class\"]"
   ]
  },
  {
   "cell_type": "code",
   "execution_count": 46,
   "metadata": {
    "execution": {
     "iopub.execute_input": "2021-12-23T08:09:31.796908Z",
     "iopub.status.busy": "2021-12-23T08:09:31.796506Z",
     "iopub.status.idle": "2021-12-23T08:09:31.809566Z",
     "shell.execute_reply": "2021-12-23T08:09:31.808855Z",
     "shell.execute_reply.started": "2021-12-23T08:09:31.796863Z"
    }
   },
   "outputs": [],
   "source": [
    "from sklearn import svm"
   ]
  },
  {
   "cell_type": "code",
   "execution_count": 47,
   "metadata": {
    "execution": {
     "iopub.execute_input": "2021-12-23T08:09:31.811446Z",
     "iopub.status.busy": "2021-12-23T08:09:31.810647Z",
     "iopub.status.idle": "2021-12-23T08:15:28.318404Z",
     "shell.execute_reply": "2021-12-23T08:15:28.317508Z",
     "shell.execute_reply.started": "2021-12-23T08:09:31.811405Z"
    }
   },
   "outputs": [
    {
     "name": "stdout",
     "output_type": "stream",
     "text": [
      "              precision    recall  f1-score   support\n",
      "\n",
      "           0       1.00      1.00      1.00     56864\n",
      "           1       0.78      0.70      0.74        98\n",
      "\n",
      "    accuracy                           1.00     56962\n",
      "   macro avg       0.89      0.85      0.87     56962\n",
      "weighted avg       1.00      1.00      1.00     56962\n",
      "\n",
      "[[56845    19]\n",
      " [   29    69]]\n"
     ]
    }
   ],
   "source": [
    "svm = svm.SVC(kernel='linear')\n",
    "\n",
    "svm.fit(X_train, y_train)\n",
    "\n",
    "y_predict = svm.predict(X_test)\n",
    "\n",
    "# evaluate the model\n",
    "print(classification_report(y_test, y_predict))\n",
    "print(confusion_matrix(y_test, y_predict))"
   ]
  },
  {
   "cell_type": "code",
   "execution_count": 48,
   "metadata": {
    "execution": {
     "iopub.execute_input": "2021-12-23T08:15:28.321525Z",
     "iopub.status.busy": "2021-12-23T08:15:28.321188Z",
     "iopub.status.idle": "2021-12-23T08:15:28.987989Z",
     "shell.execute_reply": "2021-12-23T08:15:28.987096Z",
     "shell.execute_reply.started": "2021-12-23T08:15:28.321482Z"
    }
   },
   "outputs": [
    {
     "data": {
      "image/png": "[encoded data removed]",
      "text/plain": [
       "<Figure size 576x576 with 2 Axes>"
      ]
     },
     "metadata": {
      "needs_background": "light"
     },
     "output_type": "display_data"
    }
   ],
   "source": [
    "LABELS = ['Normal', 'Fraud'] \n",
    "plt.figure(figsize =(8,8)) \n",
    "sns.heatmap(confusion_matrix(y_test, y_predict), xticklabels = LABELS, yticklabels = LABELS, annot = True, fmt =\"d\",  cmap=\"Blues\",annot_kws={\"size\": 20}); \n",
    "plt.title(\"Confusion matrix\",fontsize = 25) \n",
    "plt.ylabel('True class') \n",
    "plt.xlabel('Predicted class') \n",
    "plt.show()"
   ]
  }
 ],
 "metadata": {
  "kernelspec": {
   "display_name": "Python 3",
   "language": "python",
   "name": "python3"
  },
  "language_info": {
   "codemirror_mode": {
    "name": "ipython",
    "version": 3
   },
   "file_extension": ".py",
   "mimetype": "text/x-python",
   "name": "python",
   "nbconvert_exporter": "python",
   "pygments_lexer": "ipython3",
   "version": "3.8.5"
  }
 },
 "nbformat": 4,
 "nbformat_minor": 4
}
